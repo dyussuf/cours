{
 "cells": [
  {
   "cell_type": "markdown",
   "id": "a2766272",
   "metadata": {},
   "source": [
    "\\setcounter{page}{16}\n",
    "\n",
    "# Calcul du $n^{\\grave{e}me}$ terme\n",
    "\n",
    "## Suite explicite\n",
    "\n",
    "Chaque terme de la suite est exprimé en fonction de $n$ et indépendamment des termes précédents :\n",
    "\n",
    "$$\n",
    "U_{n}=f(n)\n",
    "$$\n",
    "\n",
    "Pour calculer le $n^{\\grave{e}me}$ terme de la suite, il suffit de définir une fonction qui prend l'indice $n$ comme paramètre et calcule le terme correspondant.\n",
    "\n",
    "$Exemple$\n",
    "\n",
    "Soit $(U_n)_{n \\in \\mathbb{N}}$ une suite définie par :\n",
    "$$\n",
    "U_n=\\frac{1}{1+n}\n",
    "$$"
   ]
  },
  {
   "cell_type": "code",
   "execution_count": 1,
   "id": "a8493b97",
   "metadata": {},
   "outputs": [],
   "source": [
    "def U(n):\n",
    "    return 1/(1+n)"
   ]
  },
  {
   "cell_type": "code",
   "execution_count": 2,
   "id": "f2838a5e",
   "metadata": {},
   "outputs": [
    {
     "data": {
      "text/plain": [
       "1.0"
      ]
     },
     "execution_count": 2,
     "metadata": {},
     "output_type": "execute_result"
    }
   ],
   "source": [
    "U(0)"
   ]
  },
  {
   "cell_type": "code",
   "execution_count": 3,
   "id": "355224ba",
   "metadata": {},
   "outputs": [
    {
     "data": {
      "text/plain": [
       "0.1"
      ]
     },
     "execution_count": 3,
     "metadata": {},
     "output_type": "execute_result"
    }
   ],
   "source": [
    "U(9)"
   ]
  },
  {
   "cell_type": "markdown",
   "id": "94801550",
   "metadata": {},
   "source": [
    "On peut calculer et stocker les termes d'indices $0$ à $n$ en utilisant une liste :\n",
    "\n",
    "$Exemple$ "
   ]
  },
  {
   "cell_type": "code",
   "execution_count": 4,
   "id": "dfaa4e05",
   "metadata": {},
   "outputs": [
    {
     "name": "stdout",
     "output_type": "stream",
     "text": [
      "[1.0, 0.5, 0.3333333333333333, 0.25]\n"
     ]
    }
   ],
   "source": [
    "n = 3\n",
    "\n",
    "termes = []               # initialisation de la liste des termes\n",
    "for i in range(n+1):      # i va de 0 à n, donc n+1 termes vont être calculés \n",
    "    termes.append(U(i))   # calcul et ajout du ième terme à la liste\n",
    "    \n",
    "print(termes)"
   ]
  },
  {
   "cell_type": "code",
   "execution_count": 5,
   "id": "33c01481",
   "metadata": {},
   "outputs": [
    {
     "data": {
      "text/plain": [
       "[1.0, 0.5, 0.3333333333333333, 0.25]"
      ]
     },
     "execution_count": 5,
     "metadata": {},
     "output_type": "execute_result"
    }
   ],
   "source": [
    "# ou bien en utilisant les listes en compréhension\n",
    "\n",
    "n = 3\n",
    "\n",
    "termes = [U(i) for i in range(n+1)]\n",
    "\n",
    "termes"
   ]
  },
  {
   "cell_type": "markdown",
   "id": "4e4364a4",
   "metadata": {},
   "source": [
    "## Suite récurrente\n",
    "\n",
    "### Simple\n",
    "\n",
    "Dans le cas d'une suite récurrente simple chaque terme de la suite s'obtient à partir du terme précédent :\n",
    "\n",
    "$$\n",
    "U_{n+1}=f(U_n)\n",
    "$$\n",
    "\n",
    "Pour calculer le $n^{\\grave{e}me}$ terme on initialise en affectant à une variable la valeur initiale de la suite, et, en utilisant une boucle qui se répète $n$ fois, on calcule le terme actuel en fonction du terme précédent, et la variable prend le terme qu'on vient de calculer.\n",
    "\n",
    "$Exemple$\n",
    "\n",
    "Soit la suite $(U_n)_{n \\in \\mathbb{N}}$ définie par :\n",
    "$$\n",
    "\\left\\{\n",
    "    \\begin{array}{ll}\n",
    "        U_0 = 1\\\\\n",
    "        U_{n+1} = 3U_{n} + 1\n",
    "    \\end{array}\n",
    "\\right.\n",
    "$$"
   ]
  },
  {
   "cell_type": "code",
   "execution_count": 6,
   "id": "a79521e7",
   "metadata": {},
   "outputs": [],
   "source": [
    "def U(n):\n",
    "    x = 0                  # initialisation\n",
    "    for _ in range(n+1):   # répétition n fois\n",
    "        x = 3*x + 1        # mise à jour du terme\n",
    "    return x"
   ]
  },
  {
   "cell_type": "code",
   "execution_count": 7,
   "id": "bfcd81e7",
   "metadata": {},
   "outputs": [
    {
     "data": {
      "text/plain": [
       "4"
      ]
     },
     "execution_count": 7,
     "metadata": {},
     "output_type": "execute_result"
    }
   ],
   "source": [
    "U(1)"
   ]
  },
  {
   "cell_type": "code",
   "execution_count": 8,
   "id": "2adb8557",
   "metadata": {},
   "outputs": [
    {
     "data": {
      "text/plain": [
       "3280"
      ]
     },
     "execution_count": 8,
     "metadata": {},
     "output_type": "execute_result"
    }
   ],
   "source": [
    "U(7)"
   ]
  },
  {
   "cell_type": "markdown",
   "id": "6cdc71af",
   "metadata": {},
   "source": [
    "En cas de besoin, on peut garder les termes précédents en utilisant une liste qui permettra de stocker progressivement chaque terme calculé.\n",
    "\n",
    "$Exemple$"
   ]
  },
  {
   "cell_type": "code",
   "execution_count": 9,
   "id": "36108835",
   "metadata": {},
   "outputs": [
    {
     "data": {
      "text/plain": [
       "[1, 4, 13, 40]"
      ]
     },
     "execution_count": 9,
     "metadata": {},
     "output_type": "execute_result"
    }
   ],
   "source": [
    "def U(n):\n",
    "    x = 1\n",
    "    termes = [1]              # initialisation de la liste des termes\n",
    "    for _ in range(n):        # pour calculer n termes \n",
    "        x = 3*x + 1           # calcul et mise à jour \n",
    "        termes.append(x)      # ajout du terme à la liste\n",
    "    return termes\n",
    "\n",
    "U(3)"
   ]
  },
  {
   "cell_type": "markdown",
   "id": "6674e81b",
   "metadata": {},
   "source": [
    "### Double\n",
    "\n",
    "Dans ce cas chaque terme est obtenu en combinant les deux termes précédents :\n",
    "\n",
    "$$\n",
    "U_{n+2}=f(U_n, U_{n+1})\n",
    "$$\n",
    "\n",
    "En utilisant la même technique vue dans le cas simple, on aura besoin d'initialiser en affectant à deux variables les deux valeurs initiales de la suite. Ensuite, en utilisant une boucle qui se répète $n$ fois, on calcule le terme actuel en fonction des termes précédents, et on met à jour les deux variables.\n",
    "\n",
    "$Exemple$\n",
    "\n",
    "Soit la suite $(U_n)_{n \\in \\mathbb{N}}$ définie par :\n",
    "$$\n",
    "\\left\\{\n",
    "    \\begin{array}{ll}\n",
    "        U_0 = 0, U_1 = 1\\\\\n",
    "        U_{n+2} = 3U_{n+1} +2U_{n}+ 1\n",
    "    \\end{array}\n",
    "\\right.\n",
    "$$"
   ]
  },
  {
   "cell_type": "code",
   "execution_count": 10,
   "id": "99e6d149",
   "metadata": {},
   "outputs": [
    {
     "data": {
      "text/plain": [
       "4"
      ]
     },
     "execution_count": 10,
     "metadata": {},
     "output_type": "execute_result"
    }
   ],
   "source": [
    "def U(n):\n",
    "    x1 = 0\n",
    "    x2 = 1\n",
    "    for _ in range(2, n+1):   # on saute les deux termes initiaux\n",
    "        x = 3*x2 + 2*x1 + 1   # calcul du terme suivant\n",
    "        x1 = x2               # mise à jour \n",
    "        x2 = x\n",
    "    return x\n",
    "\n",
    "U(2)"
   ]
  },
  {
   "cell_type": "markdown",
   "id": "c4f493e0",
   "metadata": {},
   "source": [
    "Pareillement, on peut garder les termes précédents en utilisant une liste :"
   ]
  },
  {
   "cell_type": "code",
   "execution_count": 11,
   "id": "fe77b4c2",
   "metadata": {},
   "outputs": [
    {
     "data": {
      "text/plain": [
       "[0, 1, 4, 15]"
      ]
     },
     "execution_count": 11,
     "metadata": {},
     "output_type": "execute_result"
    }
   ],
   "source": [
    "def U(n):\n",
    "    x1 = 0\n",
    "    x2 = 1\n",
    "    termes = [x1, x2]         # initialisation de la liste des termes\n",
    "    for _ in range(2, n+1):\n",
    "        x = 3*x2 + 2*x1 + 1   # calcul du terme suivant\n",
    "        termes.append(x)      # ajout du terme à la liste\n",
    "        x1 = x2               # mise à jour \n",
    "        x2 = x\n",
    "    return termes\n",
    "\n",
    "U(3)"
   ]
  },
  {
   "cell_type": "markdown",
   "id": "20938792",
   "metadata": {},
   "source": [
    "# Représentation graphique\n",
    "\n",
    "Après avoir créé la liste des abscisses (indices des termes) et la liste des ordonnées (les termes), on peut représenter graphiquement la suite en utilisant la fonction $plot(indices, termes, marker)$ du module $matplotlib.pyplot$ en utilisant le paramètre optionnel $marker$ pour marquer les points de différents signes comme '.', 'o', 'x', ...\n",
    "\n",
    "$Exemple$\n",
    "\n",
    "On reprend la suite $(U_n)_{n \\in \\mathbb{N}}$ définie par :\n",
    "$$\n",
    "U_n=\\frac{1}{1+n}\n",
    "$$"
   ]
  },
  {
   "cell_type": "code",
   "execution_count": 12,
   "id": "370dca38",
   "metadata": {},
   "outputs": [
    {
     "data": {
      "text/plain": [
       "[<matplotlib.lines.Line2D at 0x105de7750>]"
      ]
     },
     "execution_count": 12,
     "metadata": {},
     "output_type": "execute_result"
    },
    {
     "data": {
      "image/png": "[encoded data removed]",
      "text/plain": [
       "<Figure size 640x480 with 1 Axes>"
      ]
     },
     "metadata": {},
     "output_type": "display_data"
    }
   ],
   "source": [
    "import numpy as np\n",
    "import matplotlib.pyplot as mpl\n",
    "\n",
    "def U(n):\n",
    "    return 1/(1+n)\n",
    "\n",
    "n = 20\n",
    "\n",
    "# Création des indices\n",
    "indices = np.arange(0, n+1, 1)\n",
    "\n",
    "# Calcul des termes\n",
    "termes = U(indices)\n",
    "\n",
    "mpl.plot(indices, termes, marker='x')"
   ]
  },
  {
   "cell_type": "markdown",
   "id": "e7699770",
   "metadata": {},
   "source": [
    "\\newpage\n",
    "\n",
    "# TP\n",
    "\n",
    "## Énoncé \n",
    "\n",
    "***Exercice 1***\n",
    "\n",
    "Soit $(U_n)_{n \\in \\mathbb{N}}$ une suite explicite définie par : $U_n = \\frac{1}{2^n}$.\n",
    " \n",
    "1. Créer une fonction qui calcule le $n^{\\grave{e}me}$ terme de la suite.\n",
    "\n",
    "2. Créer une liste contenant les termes d'indices 0 à une borne choisie.\n",
    "\n",
    "3. Tracer graphiquement la suite.\n",
    "\n",
    "4. Calculer la limite de la suite et vérifier le résultat graphiquement.\n",
    "\n",
    "***Exercice 2***\n",
    "\n",
    "Soit $(U_n)_{n \\in \\mathbb{N}}$ une suite définie par : $U_n = (n-3)^2$.\n",
    " \n",
    "1. Créer une fonction qui calcule le $n^{\\grave{e}me}$ terme de la suite.\n",
    "\n",
    "2. Créer une liste contenant les termes d'indices 0 à une borne choisie.\n",
    "\n",
    "3. Tracer graphiquement la suite.\n",
    "\n",
    "4. Étudier la monotonie de la suite et vérifier le résultat graphiquement.\n",
    "\n",
    "***Exercice 3***\n",
    "\n",
    "Une usine assure, en 2025, une production de 100 000 articles. Elle s'engage à augmenter sa production de 3% chaque année.\n",
    "\n",
    "1. Quelle est la nature de cette suite production?\n",
    "\n",
    "2. Créer une fonction qui renvoie la production en une année donnée.\n",
    "\n",
    "3. Créer une liste de nombres d'articles produits entre 2025 et 2035.\n",
    "\n",
    "4. Représenter graphiquement la production entre 2025 et 2035.\n",
    "\n",
    "5. Combien d'articles auront été fabriqués dans cette période?\n",
    "\n",
    "***Exercice 4***\n",
    "\n",
    "Soit la suite de Fibonacci $(F_n)_{n \\in \\mathbb{N}}$ définie par :\n",
    "$$\n",
    "\\left\\{\n",
    "    \\begin{array}{ll}\n",
    "        F_0 = 0\\\\\n",
    "        F_1 = 1\\\\\n",
    "        F_{n+2} = F_{n+1} + F_{n}\n",
    "    \\end{array}\n",
    "\\right.\n",
    "$$\n",
    " \n",
    "1. Créer une fonction pour calculer le $n^{\\grave{e}me}$ terme de la suite.\n",
    "\n",
    "2. Stocker dans une liste les $\\frac{F_n}{F_{n-1}}$ pour $n \\in [2, 20]$.\n",
    "\n",
    "3. Tracer graphiquement cette suites de rapports.\n",
    "\n",
    "4. Tracer la ligne d'équation $f(x)=\\varphi=\\frac{1+\\sqrt{5}}{2}$, pour $x \\in [2,20]$ (Le nombre d'or).\n",
    "\n",
    "5. Que peut-on en déduire?\n",
    "\n",
    "\\newpage\n",
    "\n",
    "## Résolution"
   ]
  },
  {
   "cell_type": "code",
   "execution_count": 13,
   "id": "3a1ade25",
   "metadata": {},
   "outputs": [],
   "source": [
    "# Exercice 1\n",
    "\n",
    "# 1\n",
    "\n",
    "def U(n):\n",
    "    return 1/2**n"
   ]
  },
  {
   "cell_type": "code",
   "execution_count": 14,
   "id": "3a420fd8",
   "metadata": {},
   "outputs": [
    {
     "name": "stdout",
     "output_type": "stream",
     "text": [
      "Une borne :10\n"
     ]
    }
   ],
   "source": [
    "# 2\n",
    "\n",
    "n = int(input('Une borne :'))\n",
    "\n",
    "termes = [U(i) for i in range(n+1)]"
   ]
  },
  {
   "cell_type": "code",
   "execution_count": 15,
   "id": "5e9b2c2a",
   "metadata": {},
   "outputs": [
    {
     "data": {
      "text/plain": [
       "[1.0,\n",
       " 0.5,\n",
       " 0.25,\n",
       " 0.125,\n",
       " 0.0625,\n",
       " 0.03125,\n",
       " 0.015625,\n",
       " 0.0078125,\n",
       " 0.00390625,\n",
       " 0.001953125,\n",
       " 0.0009765625]"
      ]
     },
     "execution_count": 15,
     "metadata": {},
     "output_type": "execute_result"
    }
   ],
   "source": [
    "termes"
   ]
  },
  {
   "cell_type": "code",
   "execution_count": 16,
   "id": "c6eb22e1",
   "metadata": {},
   "outputs": [
    {
     "data": {
      "text/plain": [
       "[<matplotlib.lines.Line2D at 0x1068d29d0>]"
      ]
     },
     "execution_count": 16,
     "metadata": {},
     "output_type": "execute_result"
    },
    {
     "data": {
      "image/png": "[encoded data removed]",
      "text/plain": [
       "<Figure size 640x480 with 1 Axes>"
      ]
     },
     "metadata": {},
     "output_type": "display_data"
    }
   ],
   "source": [
    "# 3\n",
    "\n",
    "indices = range(n+1)\n",
    "\n",
    "mpl.plot(indices, termes, marker='o')"
   ]
  },
  {
   "cell_type": "markdown",
   "id": "5be177a9",
   "metadata": {},
   "source": [
    "4. On a $\\displaystyle{\\lim_{n \\to \\infty}} U_n=0$, ce qui est confirmé graphiquement."
   ]
  },
  {
   "cell_type": "code",
   "execution_count": 17,
   "id": "9bb15473",
   "metadata": {},
   "outputs": [],
   "source": [
    "# Exercice 2\n",
    "\n",
    "# 1\n",
    "\n",
    "def U(n):\n",
    "    return (n-3)**2"
   ]
  },
  {
   "cell_type": "code",
   "execution_count": 18,
   "id": "d75b148a",
   "metadata": {},
   "outputs": [
    {
     "name": "stdout",
     "output_type": "stream",
     "text": [
      "Une borne :17\n"
     ]
    }
   ],
   "source": [
    "# 2\n",
    "\n",
    "n = int(input('Une borne :'))\n",
    "\n",
    "termes = [U(i) for i in range(n+1)]"
   ]
  },
  {
   "cell_type": "code",
   "execution_count": 19,
   "id": "82c763d6",
   "metadata": {},
   "outputs": [
    {
     "data": {
      "text/plain": [
       "[9, 4, 1, 0, 1, 4, 9, 16, 25, 36, 49, 64, 81, 100, 121, 144, 169, 196]"
      ]
     },
     "execution_count": 19,
     "metadata": {},
     "output_type": "execute_result"
    }
   ],
   "source": [
    "termes"
   ]
  },
  {
   "cell_type": "code",
   "execution_count": 20,
   "id": "7735b41d",
   "metadata": {},
   "outputs": [
    {
     "data": {
      "text/plain": [
       "[<matplotlib.lines.Line2D at 0x106977890>]"
      ]
     },
     "execution_count": 20,
     "metadata": {},
     "output_type": "execute_result"
    },
    {
     "data": {
      "image/png": "[encoded data removed]",
      "text/plain": [
       "<Figure size 640x480 with 1 Axes>"
      ]
     },
     "metadata": {},
     "output_type": "display_data"
    }
   ],
   "source": [
    "# 3\n",
    "\n",
    "indices = range(n+1)\n",
    "\n",
    "mpl.plot(indices, termes, marker='o')"
   ]
  },
  {
   "cell_type": "markdown",
   "id": "2689a573",
   "metadata": {},
   "source": [
    "4. La suite est décroissante pour $n<3$ et croissante sinon, ce qui est confirmé graphiquement."
   ]
  },
  {
   "cell_type": "code",
   "execution_count": 21,
   "id": "b93b4433",
   "metadata": {},
   "outputs": [],
   "source": [
    "# Exercice 3\n",
    "\n",
    "# 2\n",
    "\n",
    "def production(an):\n",
    "    n = an-2025   # nombre d'années à partir de 2025\n",
    "    p0 = 100000   \n",
    "    return p0*1.03**n   # la production est une suite géométrique "
   ]
  },
  {
   "cell_type": "code",
   "execution_count": 22,
   "id": "f067ddcd",
   "metadata": {},
   "outputs": [],
   "source": [
    "# 3\n",
    "\n",
    "productions = [production(i) for i in range(2025, 2036)]"
   ]
  },
  {
   "cell_type": "code",
   "execution_count": 23,
   "id": "22762d14",
   "metadata": {},
   "outputs": [
    {
     "data": {
      "image/png": "[encoded data removed]",
      "text/plain": [
       "<Figure size 640x480 with 1 Axes>"
      ]
     },
     "metadata": {},
     "output_type": "display_data"
    }
   ],
   "source": [
    "# 4\n",
    "\n",
    "années = range(2025, 2036)\n",
    "\n",
    "mpl.plot(années, productions, marker='o')\n",
    "mpl.xlabel('Année')\n",
    "mpl.ylabel('Production (nombre d\\'articles)')\n",
    "mpl.title('Progression de la production entre 2025 et 2035')\n",
    "\n",
    "mpl.show()"
   ]
  },
  {
   "cell_type": "code",
   "execution_count": 24,
   "id": "fba8dabd",
   "metadata": {},
   "outputs": [
    {
     "name": "stdout",
     "output_type": "stream",
     "text": [
      "Total des articles produits : 1280779\n"
     ]
    }
   ],
   "source": [
    "print('Total des articles produits :', int(sum(productions)))"
   ]
  },
  {
   "cell_type": "code",
   "execution_count": 25,
   "id": "8b17a7f8",
   "metadata": {},
   "outputs": [
    {
     "data": {
      "text/plain": [
       "1"
      ]
     },
     "execution_count": 25,
     "metadata": {},
     "output_type": "execute_result"
    }
   ],
   "source": [
    "# Exercice 4\n",
    "\n",
    "# 1\n",
    "\n",
    "def F(n):\n",
    "    assert isinstance(n, int)\n",
    "    if n<=1:\n",
    "        return n\n",
    "    else:\n",
    "        x0 = 0\n",
    "        x1 = 1\n",
    "        for _ in range(2, n+1):\n",
    "            x = x0 + x1\n",
    "            x0 = x1\n",
    "            x1 = x\n",
    "        return x\n",
    "    \n",
    "F(2)"
   ]
  },
  {
   "cell_type": "code",
   "execution_count": 26,
   "id": "912288ff",
   "metadata": {},
   "outputs": [
    {
     "data": {
      "text/plain": [
       "55"
      ]
     },
     "execution_count": 26,
     "metadata": {},
     "output_type": "execute_result"
    }
   ],
   "source": [
    "F(10)"
   ]
  },
  {
   "cell_type": "code",
   "execution_count": 27,
   "id": "68ecae45",
   "metadata": {},
   "outputs": [],
   "source": [
    "# 2\n",
    "\n",
    "rapports = [F(n)/F(n-1) for n in range(2, 21)]"
   ]
  },
  {
   "cell_type": "code",
   "execution_count": 28,
   "id": "319c33f7",
   "metadata": {},
   "outputs": [
    {
     "data": {
      "text/plain": [
       "[<matplotlib.lines.Line2D at 0x1068d0710>]"
      ]
     },
     "execution_count": 28,
     "metadata": {},
     "output_type": "execute_result"
    },
    {
     "data": {
      "image/png": "[encoded data removed]",
      "text/plain": [
       "<Figure size 640x480 with 1 Axes>"
      ]
     },
     "metadata": {},
     "output_type": "display_data"
    }
   ],
   "source": [
    "# 3\n",
    "\n",
    "indices = range(2, 21)\n",
    "\n",
    "mpl.plot(indices, rapports)"
   ]
  },
  {
   "cell_type": "code",
   "execution_count": 29,
   "id": "78ef3441",
   "metadata": {},
   "outputs": [
    {
     "data": {
      "text/plain": [
       "<matplotlib.collections.LineCollection at 0x106a7b4d0>"
      ]
     },
     "execution_count": 29,
     "metadata": {},
     "output_type": "execute_result"
    },
    {
     "data": {
      "image/png": "[encoded data removed]",
      "text/plain": [
       "<Figure size 640x480 with 1 Axes>"
      ]
     },
     "metadata": {},
     "output_type": "display_data"
    }
   ],
   "source": [
    "# 4\n",
    "\n",
    "mpl.plot(indices, rapports)\n",
    "\n",
    "# tracer une ligne horizontale en nombre d'or entre 2 et 20\n",
    "mpl.hlines((1+np.sqrt(5))/2, 2, 20, color='red') "
   ]
  },
  {
   "cell_type": "markdown",
   "id": "6320fe7e",
   "metadata": {},
   "source": [
    "5. On peut observer graphiquement que $\\displaystyle{\\lim_{n \\to \\infty}} \\frac{F_n}{F_{n-1}}=\\varphi$"
   ]
  }
 ],
 "metadata": {
  "kernelspec": {
   "display_name": "Python 3 (ipykernel)",
   "language": "python",
   "name": "python3"
  },
  "language_info": {
   "codemirror_mode": {
    "name": "ipython",
    "version": 3
   },
   "file_extension": ".py",
   "mimetype": "text/x-python",
   "name": "python",
   "nbconvert_exporter": "python",
   "pygments_lexer": "ipython3",
   "version": "3.11.7"
  }
 },
 "nbformat": 4,
 "nbformat_minor": 5
}
