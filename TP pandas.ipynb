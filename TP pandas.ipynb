{
 "cells": [
  {
   "cell_type": "markdown",
   "id": "ec387e49",
   "metadata": {},
   "source": [
    "***Exercice 1***\n",
    "\n",
    "On s’intéresse à certains aspects des vingt villes les plus peuplées d'un pays donné. On s’intéresse plus particulièrement à leur population (en nombre d’habitants), leur densité (en habitants par $km^2$), leur pluviométrie (en $mm$) et leur ensoleillement (en $heure$).\n",
    "\n",
    "\n",
    "1. Importer le fichier de données $population.csv$.\n",
    "2. Afficher quelques lignes de la table.\n",
    "3. Donner les indications statistiques correspondant à la population.\n",
    "4. Classer les villes par ordre croissant de leur indice pluviométrique.\n",
    "5. Déterminer la moyenne d'indice pluviométrique pour ces 20 villes.\n",
    "5. Déterminer le nombre d'heures maximal d'ensoleillement.\n",
    "7. Sélectionner les villes dont la durée annuelle d’ensoleillement est d’au moins 2000 heures.\n",
    "\n",
    "***Exercice 2***\n",
    "\n",
    "1. Importer le fichier de données $tournoi.csv$.\n",
    "2. Afficher quelques lignes.\n",
    "3. Combien d’équipes ont participé au tournoi?\n",
    "4. Afficher le total des buts marqués lors de la compétition.\n",
    "5. Afficher les équipes qui ont marqué au moins un but et ont au moins un \"clean sheet\".\n",
    "6. Trier les équipes par cartons rouges, puis cartons jaunes.\n",
    "7. Exprimer le nombre de buts en fonction du nombre de passes sous forme d'un nuage de points."
   ]
  }
 ],
 "metadata": {
  "kernelspec": {
   "display_name": "Python 3 (ipykernel)",
   "language": "python",
   "name": "python3"
  },
  "language_info": {
   "codemirror_mode": {
    "name": "ipython",
    "version": 3
   },
   "file_extension": ".py",
   "mimetype": "text/x-python",
   "name": "python",
   "nbconvert_exporter": "python",
   "pygments_lexer": "ipython3",
   "version": "3.11.7"
  }
 },
 "nbformat": 4,
 "nbformat_minor": 5
}
